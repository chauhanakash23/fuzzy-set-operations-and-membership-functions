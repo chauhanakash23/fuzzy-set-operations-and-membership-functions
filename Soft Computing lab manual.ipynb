{
 "cells": [
  {
   "cell_type": "code",
   "execution_count": 79,
   "metadata": {},
   "outputs": [],
   "source": [
    "import matplotlib.pyplot as plt\n",
    "import numpy as np\n",
    "from scipy.stats import norm\n",
    "import math\n",
    "import random\n",
    "import skfuzzy.membership\n",
    "import pandas as pd\n",
    "import warnings\n",
    "warnings.filterwarnings('ignore')"
   ]
  },
  {
   "cell_type": "markdown",
   "metadata": {},
   "source": [
    "# Assignment 1"
   ]
  },
  {
   "cell_type": "markdown",
   "metadata": {},
   "source": [
    "# Fuzzy set operations"
   ]
  },
  {
   "cell_type": "code",
   "execution_count": 2,
   "metadata": {},
   "outputs": [],
   "source": [
    "A= [(1,0.8),(2,0.7),(3,0.1),(4,1.0),(5,0.9),(6,0.3)]\n",
    "B= [(1,0.3),(2,0.4),(3,0.4),(4,1),(5,0),(6,0)]"
   ]
  },
  {
   "cell_type": "code",
   "execution_count": 3,
   "metadata": {},
   "outputs": [],
   "source": [
    "def algSum(A,B):\n",
    "    sum=[]\n",
    "    \n",
    "    for i in A:\n",
    "        for j in B:\n",
    "            if i[0]==j[0]:\n",
    "                sum.append((i[0],(i[1]+j[1]-i[1]*j[1])))\n",
    "    return sum\n",
    "\n",
    "                         \n",
    "def cart(A,B):\n",
    "    c=[]\n",
    "    \n",
    "    for i in A:\n",
    "        for j in B:\n",
    "            c.append(((i[0],j[0]), min(i[1],j[1])))\n",
    "    return c\n",
    "  \n",
    "    \n",
    "def union(A,B):\n",
    "    union=[]\n",
    "\n",
    "    for i in A:\n",
    "        for j in B:\n",
    "            if i[0] == j[0]:\n",
    "                union.append((i[0],max(i[1],j[1])))\n",
    "\n",
    "    return union\n",
    "     \n",
    "def intersect(A,B):\n",
    "    intersection=[]\n",
    "    for i in A:\n",
    "        for j in B:\n",
    "            if i[0] == j[0]:\n",
    "                intersection.append((i[0],min(i[1],j[1])))\n",
    "    return intersection\n",
    "      \n",
    "    \n",
    "def complement(A):\n",
    "    A_=[]\n",
    "\n",
    "    for i in A:\n",
    "        A_.append((i[0],1-i[1]))\n",
    "    return A_\n",
    "\n",
    "def diff(A,B):\n",
    "    d=[]\n",
    "    B_=complement(B)\n",
    "    for i in A:\n",
    "        for j in B_:\n",
    "            if i[0]==j[0]:\n",
    "                d.append((i[0],min(i[1],j[1])))\n",
    "    return d            "
   ]
  },
  {
   "cell_type": "code",
   "execution_count": 4,
   "metadata": {},
   "outputs": [
    {
     "name": "stdout",
     "output_type": "stream",
     "text": [
      "Set A :  [(1, 0.8), (2, 0.7), (3, 0.1), (4, 1.0), (5, 0.9), (6, 0.3)] \n",
      "\n",
      "Set B :  [(1, 0.3), (2, 0.4), (3, 0.4), (4, 1), (5, 0), (6, 0)] \n",
      "\n",
      "Algebraic sum:  [(1, 0.8600000000000001), (2, 0.8200000000000001), (3, 0.45999999999999996), (4, 1.0), (5, 0.9), (6, 0.3)] \n",
      "\n",
      "Algebraic difference:  [(1, 0.7), (2, 0.6), (3, 0.1), (4, 0), (5, 0.9), (6, 0.3)] \n",
      "\n",
      "Cartesian product:  [((1, 1), 0.3), ((1, 2), 0.4), ((1, 3), 0.4), ((1, 4), 0.8), ((1, 5), 0), ((1, 6), 0), ((2, 1), 0.3), ((2, 2), 0.4), ((2, 3), 0.4), ((2, 4), 0.7), ((2, 5), 0), ((2, 6), 0), ((3, 1), 0.1), ((3, 2), 0.1), ((3, 3), 0.1), ((3, 4), 0.1), ((3, 5), 0), ((3, 6), 0), ((4, 1), 0.3), ((4, 2), 0.4), ((4, 3), 0.4), ((4, 4), 1.0), ((4, 5), 0), ((4, 6), 0), ((5, 1), 0.3), ((5, 2), 0.4), ((5, 3), 0.4), ((5, 4), 0.9), ((5, 5), 0), ((5, 6), 0), ((6, 1), 0.3), ((6, 2), 0.3), ((6, 3), 0.3), ((6, 4), 0.3), ((6, 5), 0), ((6, 6), 0)] \n",
      "\n",
      "Union:  [(1, 0.8), (2, 0.7), (3, 0.4), (4, 1.0), (5, 0.9), (6, 0.3)] \n",
      "\n",
      "Intersection:  [(1, 0.3), (2, 0.4), (3, 0.1), (4, 1.0), (5, 0), (6, 0)] \n",
      "\n",
      "Complement of A:  [(1, 0.19999999999999996), (2, 0.30000000000000004), (3, 0.9), (4, 0.0), (5, 0.09999999999999998), (6, 0.7)] \n",
      "\n",
      "Complement of B:  [(1, 0.7), (2, 0.6), (3, 0.6), (4, 0), (5, 1), (6, 1)] \n",
      "\n",
      "complement(A) union complement(B):  [(1, 0.7), (2, 0.6), (3, 0.9), (4, 0.0), (5, 1), (6, 1)] \n",
      "\n",
      "complement(A) intersection complement(B):  [(1, 0.19999999999999996), (2, 0.30000000000000004), (3, 0.6), (4, 0.0), (5, 0.09999999999999998), (6, 0.7)]\n"
     ]
    }
   ],
   "source": [
    "print(\"Set A : \", A,\"\\n\")\n",
    "print(\"Set B : \", B,\"\\n\")\n",
    "\n",
    "asum=algSum(A,B)\n",
    "print(\"Algebraic sum: \",asum,\"\\n\")\n",
    "\n",
    "dif=diff(A,B)\n",
    "print(\"Algebraic difference: \",dif,\"\\n\")\n",
    "\n",
    "c=cart(A,B)\n",
    "print(\"Cartesian product: \",c,\"\\n\")\n",
    "\n",
    "u=union(A,B)\n",
    "print(\"Union: \",u,\"\\n\")\n",
    "\n",
    "inter=intersect(A,B)\n",
    "print(\"Intersection: \", inter,\"\\n\")\n",
    "\n",
    "com=complement(A)\n",
    "print(\"Complement of A: \",com,\"\\n\")\n",
    "\n",
    "com=complement(B)\n",
    "print(\"Complement of B: \",com,'\\n')\n",
    "\n",
    "print(\"complement(A) union complement(B): \", union(complement(A),complement(B)),\"\\n\")\n",
    "print(\"complement(A) intersection complement(B): \", intersect(complement(A),complement(B)))"
   ]
  },
  {
   "cell_type": "markdown",
   "metadata": {},
   "source": [
    "# Assignment 2"
   ]
  },
  {
   "cell_type": "markdown",
   "metadata": {},
   "source": [
    "# Triangular membership function"
   ]
  },
  {
   "cell_type": "code",
   "execution_count": 12,
   "metadata": {},
   "outputs": [
    {
     "name": "stdout",
     "output_type": "stream",
     "text": [
      "Enter a: 2\n",
      "Enter b: 6\n"
     ]
    },
    {
     "data": {
      "image/png": "[encoded data removed]",
      "text/plain": [
       "<Figure size 432x288 with 1 Axes>"
      ]
     },
     "metadata": {},
     "output_type": "display_data"
    }
   ],
   "source": [
    "a=float(input(\"Enter a: \"))\n",
    "b=float(input(\"Enter b: \"))\n",
    "m=(a+b)/2\n",
    "X=(a,m,b)\n",
    "Y=(0,1,0)\n",
    "plt.plot(X,Y)\n",
    "plt.show()"
   ]
  },
  {
   "cell_type": "code",
   "execution_count": 13,
   "metadata": {},
   "outputs": [
    {
     "name": "stdout",
     "output_type": "stream",
     "text": [
      "Enter the element: 2.5\n",
      "Membership :  0.25\n"
     ]
    }
   ],
   "source": [
    "x=float(input(\"Enter the element: \"))\n",
    "if x<=a:\n",
    "    mem = 0\n",
    "elif x>a and x<=m:\n",
    "    mem = (x-a)/(m-a)\n",
    "elif x>m and x<b:\n",
    "    mem = (b-x)/(b-m)\n",
    "else:\n",
    "    mem=0\n",
    "    \n",
    "print(\"Membership : \",mem)    \n"
   ]
  },
  {
   "cell_type": "markdown",
   "metadata": {},
   "source": [
    "# Trapezoidal membership function"
   ]
  },
  {
   "cell_type": "code",
   "execution_count": 14,
   "metadata": {},
   "outputs": [
    {
     "name": "stdout",
     "output_type": "stream",
     "text": [
      "Enter a: \n",
      "1\n",
      "Enter b: \n",
      "5\n",
      "Enter c: \n",
      "7\n",
      "Enter d: \n",
      "8\n"
     ]
    },
    {
     "data": {
      "image/png": "[encoded data removed]",
      "text/plain": [
       "<Figure size 432x288 with 1 Axes>"
      ]
     },
     "metadata": {},
     "output_type": "display_data"
    }
   ],
   "source": [
    "print(\"Enter a: \")\n",
    "a=input()\n",
    "a=float(a)\n",
    "print(\"Enter b: \")\n",
    "b=input()\n",
    "b=float(b)\n",
    "print(\"Enter c: \")\n",
    "c=input()\n",
    "c=float(c)\n",
    "print(\"Enter d: \")\n",
    "d=input()\n",
    "d=float(d)\n",
    "X=(a,b,c,d)\n",
    "Y=(0,1,1,0)\n",
    "plt.plot(X,Y)\n",
    "plt.show()"
   ]
  },
  {
   "cell_type": "code",
   "execution_count": 15,
   "metadata": {},
   "outputs": [
    {
     "name": "stdout",
     "output_type": "stream",
     "text": [
      "Enter the element: 4\n",
      "Membership : 0.75\n"
     ]
    }
   ],
   "source": [
    "x=float(input(\"Enter the element: \"))\n",
    "if x <= a:\n",
    "    mem = 0\n",
    "elif x > a and x <= b :\n",
    "    mem = (x - a) / (b - a)\n",
    "elif x > b and x < c :\n",
    "    mem = 1\n",
    "elif x >= c and x <= d :\n",
    "    mem = (d - x) / (d - c)\n",
    "else :    \n",
    "    mem=0\n",
    "    \n",
    "print(\"Membership :\",mem)    "
   ]
  },
  {
   "cell_type": "markdown",
   "metadata": {},
   "source": [
    "# Gaussian Distribution"
   ]
  },
  {
   "cell_type": "code",
   "execution_count": 16,
   "metadata": {},
   "outputs": [
    {
     "name": "stdout",
     "output_type": "stream",
     "text": [
      "Enter the mean: 0\n",
      "Enter the variance: 2\n"
     ]
    },
    {
     "data": {
      "image/png": "[encoded data removed]",
      "text/plain": [
       "<Figure size 432x288 with 1 Axes>"
      ]
     },
     "metadata": {},
     "output_type": "display_data"
    }
   ],
   "source": [
    "c=float(input(\"Enter the mean: \"))\n",
    "var=float(input(\"Enter the variance: \"))\n",
    "sig=np.sqrt(var)\n",
    "x_axis = np.arange(-10, 10, 0.001)\n",
    "#mean = c, Standard deviation = sig.\n",
    "plt.plot(x_axis, norm.pdf(x_axis,c,sig))\n",
    "plt.show()"
   ]
  },
  {
   "cell_type": "code",
   "execution_count": 17,
   "metadata": {},
   "outputs": [
    {
     "name": "stdout",
     "output_type": "stream",
     "text": [
      "Enter the element: 2.4\n",
      "membership:  0.23692775868212176\n"
     ]
    }
   ],
   "source": [
    "x=float(input(\"Enter the element: \"))\n",
    "\n",
    "mem = np.exp((-1*(x-c)**2)/(2*var))\n",
    "    \n",
    "print(\"membership: \",mem)    "
   ]
  },
  {
   "cell_type": "markdown",
   "metadata": {},
   "source": [
    "# Generalized bell function"
   ]
  },
  {
   "cell_type": "code",
   "execution_count": 67,
   "metadata": {},
   "outputs": [
    {
     "name": "stdout",
     "output_type": "stream",
     "text": [
      "Enter a:5\n",
      "Enter b:3.5\n",
      "Enter c:10\n"
     ]
    },
    {
     "data": {
      "image/png": "[encoded data removed]",
      "text/plain": [
       "<Figure size 432x288 with 1 Axes>"
      ]
     },
     "metadata": {},
     "output_type": "display_data"
    },
    {
     "name": "stdout",
     "output_type": "stream",
     "text": [
      "Enter the element:7.5\n",
      "Membership:  0.9922480620155039\n"
     ]
    }
   ],
   "source": [
    "x= np.arange(20)\n",
    "a=float(input(\"Enter a:\"))\n",
    "b=float(input(\"Enter b:\"))\n",
    "c=float(input(\"Enter c:\"))\n",
    "mf=skfuzzy.gbellmf(x,a,b,c)\n",
    "plt.plot(x,mf)\n",
    "plt.show()\n",
    "x=float(input(\"Enter the element:\"))\n",
    "mem = 1/(1+abs((x-c)/a)**(2 * b))\n",
    "print(\"Membership: \", mem)"
   ]
  },
  {
   "cell_type": "markdown",
   "metadata": {},
   "source": [
    "# Sigmoid function"
   ]
  },
  {
   "cell_type": "code",
   "execution_count": 74,
   "metadata": {},
   "outputs": [
    {
     "name": "stdout",
     "output_type": "stream",
     "text": [
      "Enter a :10\n",
      "Enter c :3.5\n"
     ]
    },
    {
     "data": {
      "image/png": "[encoded data removed]",
      "text/plain": [
       "<Figure size 432x288 with 1 Axes>"
      ]
     },
     "metadata": {},
     "output_type": "display_data"
    },
    {
     "name": "stdout",
     "output_type": "stream",
     "text": [
      "Enter the member : 11\n",
      "Membership :  1.0\n"
     ]
    }
   ],
   "source": [
    "a = float(input(\"Enter a :\"))\n",
    "c = float(input(\"Enter c :\"))\n",
    "x=np.arange(20)\n",
    "\n",
    "sig = skfuzzy.membership.sigmf(x,a,c)\n",
    "plt.plot(x,sig)\n",
    "plt.show()\n",
    "x=float(input(\"Enter the member : \"))\n",
    "mem= 1/(1+np.exp(-1*a*(x-c)))\n",
    "print(\"Membership : \",mem)"
   ]
  },
  {
   "cell_type": "code",
   "execution_count": 90,
   "metadata": {
    "scrolled": true
   },
   "outputs": [
    {
     "name": "stdout",
     "output_type": "stream",
     "text": [
      "Enter the member : 9\n",
      "Membership :  0.9820137900379085\n"
     ]
    }
   ],
   "source": [
    "x=float(input(\"Enter the member : \"))\n",
    "mem=1/(1+np.exp(-1*a*(x-c)))\n",
    "print('Membership : ', mem)"
   ]
  },
  {
   "cell_type": "markdown",
   "metadata": {},
   "source": [
    "# Assignment 3"
   ]
  },
  {
   "cell_type": "markdown",
   "metadata": {},
   "source": [
    "# Q. Find applications where you find fuzzy logic to be suitable\n",
    "\n",
    "Fuzzy logic as I understand is a form of reasoning where the reasoning may be true, somewhat true, very much true and so on. It is the reasoning for the statements or hypothesis that can not be quantified or measured. Apart from this, fuzzy logic differs from the conventional logic in notations too. A simple and fairly easy example that will distinguish the two and would let us know the need of fuzzy logic is as follows:\n",
    "So this application of fuzzy logic is in 'Automated braking system' in vehicles. \n",
    "\n",
    "If we think of the normal logic i.e. the if-then rules then we may specify as, say \"If the distance from the vehicle ahead is less than equal to 5 meters then apply brakes\".\n",
    "Here, the car would stop as soon as it is in the pre-defined range but there might be situations when we do not require breakes as the speed of the vechicles is slow or on an express highway where the vehicles are at a pretty high speed and hence the distance could be maintained. In that condiction too, the system would stop the car applying the complete strength of the braking system. This is crisp, \"Either brakes or no brakes at all\".\n",
    "\n",
    "Whereas in the same scenario, if we apply fuzzy logic then, we can assign membership over a range of values that denote the distance between two vehicles.\n",
    "Say, if the distance is 15 meters, the membership is 0.2. Hence the brakes will be applied slightly just to decrease a certain amount of speed that will prevent the accident and maintain a safe distance. Similarly, as the distance decreases, the membership of the pressure applied on brakes becomes higher.\n",
    "\n",
    "This way, fuzzy logic comes handy in automated braking system. There are numerous other applications as well. Like in Particle physics, neuro-science etc. For simpler examples we could consider the braking system and for the supply of oxygen to a patients as the condition gets more and more critical etc."
   ]
  },
  {
   "cell_type": "markdown",
   "metadata": {},
   "source": [
    "# Assignment 4"
   ]
  },
  {
   "cell_type": "markdown",
   "metadata": {},
   "source": [
    "# Q. Scenarios where Gaussian Membership function can be applied.\n",
    "\n",
    "In general, A Gaussian curve/Normal distriburtion curve depicts a smooth symmetrical curve centered at the mean(μ) and spread over a varivance(σ). Hence the Gaussian membership function could be associated to some problem that requires a ascent in membership in the first half and a symmetric descent in the other.\n",
    "\n",
    "For simpler examples, if we talk about attaining youth. Though being \"young\" is relative concept and no specified age define a boundry with a flag saying \"youth\". Still, when a child is born, their membership of being considered in the youth bracket is very low. The membership increases with the age of the child and reaches the peak in the middle ages. And then slowly the membership starts to decrease.\n",
    "\n",
    "Further there are a lot of applications of fuzzy logic and Gaussian membership function in many fields of study. For instance, I few of the research works I have encountered, a paper by Reddy et al. applied fuzzy logic and used the Gaussian membership fucntion to propose a fuzzy approach for COCOMO's effort estimation[1].\n",
    "\n",
    "Gaussian membership function also has uses in design of neuro-fuzzy circuits as shown in the research by Basterretxa et al[2]. \n",
    "Gaussian MF can also be used for tuning the parameters of fuzzy models as carred out in the research work by Pieczyński et al[3].\n",
    "\n",
    "A fuzzy-neural sliding-mode control system was developed to control power electronic converters by Cheng et al. An asymmetric fuzzy neural network is utilized to mimic an ideal controller. It is applied to control a pulsewidth-modulation-based forward dc-dc converter. Experimental results show that the proposed FNSM control system is found to achieve favorable regulation performances even under input-voltage and load-resistance variations.[4]\n",
    "\n",
    "It could also be used in time series predictions, like in the work proposed by Kasabov and Song. They proposed a dynamic evolving neural-fuzzy inference system.[5]\n",
    "\n",
    "References:\n",
    "\n",
    "[1] https://www.researchgate.net/publication/42804622_An_Improved_Fuzzy_Approach_for_COCOMO's_Effort_Estimation_Using_Gaussian_Membership_Function\n",
    "\n",
    "[2]\n",
    "http://digital-library.theiet.org/content/journals/10.1049/el_20063712\n",
    "\n",
    "[3]\n",
    "https://ieeexplore.ieee.org/abstract/document/4156354/\n",
    "\n",
    "[4]\n",
    "https://ieeexplore.ieee.org/abstract/document/4156354/\n",
    "\n",
    "[5]\n",
    "https://ieeexplore.ieee.org/abstract/document/995117/\n",
    "\n"
   ]
  },
  {
   "cell_type": "markdown",
   "metadata": {},
   "source": [
    "# Assignment 5"
   ]
  },
  {
   "cell_type": "markdown",
   "metadata": {},
   "source": [
    "# Composition"
   ]
  },
  {
   "cell_type": "code",
   "execution_count": 8,
   "metadata": {},
   "outputs": [],
   "source": [
    "def mmcomp(A,B):\n",
    "    \n",
    "    a=A.shape\n",
    "    b=B.shape\n",
    "    c=[]\n",
    "    for i in A:\n",
    "        for j in B.T:\n",
    "            c.append(max(np.minimum(i,j)))\n",
    "    return c        \n",
    "    \n",
    "def mpcomp(A,B):\n",
    "    a=A.shape\n",
    "    b=B.shape\n",
    "    c=[]\n",
    "    for i in A:\n",
    "        for j in B.T:\n",
    "            c.append(max(i*j))\n",
    "    return c        \n",
    "    "
   ]
  },
  {
   "cell_type": "code",
   "execution_count": 9,
   "metadata": {},
   "outputs": [
    {
     "name": "stdout",
     "output_type": "stream",
     "text": [
      "R : [[0.4 0.6 0. ]\n",
      " [0.9 1.  0.1]] \n",
      "\n",
      "S : [[0.5 0.8]\n",
      " [0.1 1. ]\n",
      " [0.  0.6]] \n",
      "\n"
     ]
    }
   ],
   "source": [
    "R=np.array([[0.4,0.6,0],[0.9,1,0.1]])\n",
    "S=np.array([[0.5,0.8],[0.1,1],[0,0.6]])\n",
    "print(\"R :\",R,\"\\n\")\n",
    "print(\"S :\",S,\"\\n\")\n",
    "#print(np.matmul(R,S))"
   ]
  },
  {
   "cell_type": "code",
   "execution_count": 10,
   "metadata": {},
   "outputs": [
    {
     "name": "stdout",
     "output_type": "stream",
     "text": [
      "The max-min composition of R and S: \n",
      " [[0.4 0.6]\n",
      " [0.5 1. ]] \n",
      "\n",
      "The max-product composition of R and S: \n",
      " [[0.2  0.6 ]\n",
      " [0.45 1.  ]] \n",
      "\n"
     ]
    }
   ],
   "source": [
    "mm=np.array(mmcomp(R,S))\n",
    "print(\"The max-min composition of R and S: \\n\",mm.reshape(2,2),\"\\n\")\n",
    "mp=np.array(mpcomp(R,S))\n",
    "print(\"The max-product composition of R and S: \\n\",mp.reshape(2,2),\"\\n\")"
   ]
  },
  {
   "cell_type": "markdown",
   "metadata": {},
   "source": [
    "# Assignment 6"
   ]
  },
  {
   "cell_type": "code",
   "execution_count": 5,
   "metadata": {},
   "outputs": [
    {
     "name": "stdout",
     "output_type": "stream",
     "text": [
      "Enter temperature threshold 0.7\n",
      "Enter humidity threshold 0.7\n",
      "Accepted temperature:  [(16, 0.4), (18, 0.8), (20, 1), (22, 1), (24, 0.8), (26, 0.5)]\n",
      "Accepted humidity:  [(0, 0.2), (20, 0.8), (40, 1.0), (60, 0.6), (80, 0.2)]\n",
      "------------------------------------------------------------------------------------------\n",
      "Accepted humidity or accepted temperature:\n",
      "   Humidity  Temperature\n",
      "0        20           18\n",
      "1        20           20\n",
      "2        20           22\n",
      "3        20           24\n",
      "4        40           18\n",
      "5        40           20\n",
      "6        40           22\n",
      "7        40           24\n"
     ]
    }
   ],
   "source": [
    "temperature = [(16,0.4),(18,0.8),(20,1),(22,1),(24,0.8),(26, 0.5)]\n",
    "humidity = [(0,0.2),(20,0.8),(40,1.0),(60,0.6),(80,0.2)]\n",
    "\n",
    "threshold_temp = float(input('Enter temperature threshold '))\n",
    "threshold_humid = float(input('Enter humidity threshold '))\n",
    "\n",
    "accepted_temperature = []\n",
    "accepted_humidity = []\n",
    "\n",
    "for t in temperature:\n",
    "    if t[1] >= threshold_temp:\n",
    "        accepted_temperature.append((t))\n",
    "        \n",
    "for h in humidity:\n",
    "    if h[1] >= threshold_humid:\n",
    "        accepted_humidity.append((h))    \n",
    "        \n",
    "print(\"Accepted temperature: \", temperature)\n",
    "print(\"Accepted humidity: \", humidity)\n",
    "\n",
    "print(\"------------------------------------------------------------------------------------------\")\n",
    "\n",
    "print(\"Accepted humidity or accepted temperature:\")\n",
    "cp = cart(accepted_humidity,accepted_temperature)\n",
    "cp1 = []\n",
    "for i in cp:\n",
    "    cp1.append(i[0])\n",
    "df = pd.DataFrame(data=cp1, columns=[\"Humidity\",\"Temperature\"])\n",
    "print(df)"
   ]
  },
  {
   "cell_type": "markdown",
   "metadata": {},
   "source": [
    "# Assignment 7"
   ]
  },
  {
   "cell_type": "code",
   "execution_count": 6,
   "metadata": {},
   "outputs": [
    {
     "name": "stdout",
     "output_type": "stream",
     "text": [
      "Enter the element:40\n",
      " 1. More or less young --> 0.24253562503633297\n",
      " 2. Not young and not old -->  0.9411764705882353\n",
      " 3. Young but not too young -->  0.058823529411764705\n",
      " 4. Extremely old --> 0.0002366863905325444\n"
     ]
    }
   ],
   "source": [
    "x=float(input(\"Enter the element:\"))\n",
    "mem_young = 1/(1+abs((x-0)/20)**(2 * 2))\n",
    "mem_old = 1/(1+abs((x-100)/30)**(2 * 3))\n",
    "print(' 1. More or less young --> {}'.format(np.sqrt(mem_young))) # dialte\n",
    "\n",
    "print(' 2. Not young and not old --> ', min((1-mem_young),(1-mem_old)))\n",
    "\n",
    "print(' 3. Young but not too young --> ', min(mem_young,(1-(mem_young)**2)))\n",
    "\n",
    "print(' 4. Extremely old --> {}'.format((mem_old)**2))"
   ]
  },
  {
   "cell_type": "markdown",
   "metadata": {},
   "source": [
    "# Assignment 8"
   ]
  },
  {
   "cell_type": "code",
   "execution_count": 9,
   "metadata": {},
   "outputs": [
    {
     "name": "stdout",
     "output_type": "stream",
     "text": [
      "[[0.4  0.65]\n",
      " [0.5  1.  ]\n",
      " [0.5  0.7 ]]\n",
      "The min-max composition for (3,one) is 0.5\n"
     ]
    }
   ],
   "source": [
    "R1 = np.array([[0.4,0.6,0,0.74],[0.9,1,0.6,0.1],[0.7,0.1,1,0]]) # 3 x 4\n",
    "R2 = np.array([[0.5,0.8],[0.1,1],[0,0.6],[0.2,0.65]])  # 4 x 2\n",
    "\n",
    "M = mmcomp(R1,R2) # calling the min-max method defined earlier.\n",
    "M = np.array(M)\n",
    "M = M.reshape(3,2) # 3 x 2\n",
    "print(M)\n",
    "\n",
    "# now for x = 3 and z = one,\n",
    "print(\"The min-max composition for (3,one) is\", M[2][0])"
   ]
  },
  {
   "cell_type": "markdown",
   "metadata": {},
   "source": [
    "# Assignment 9"
   ]
  },
  {
   "cell_type": "code",
   "execution_count": 1,
   "metadata": {},
   "outputs": [
    {
     "name": "stdout",
     "output_type": "stream",
     "text": [
      "Centroid is: 0.6741935483870968\n",
      "Mean od Maximum :  1.0\n",
      "Smallest of Maximum : 0.2\n",
      "Largest of Maximum:  0.8\n",
      "Bisector of Area:  0.5\n"
     ]
    }
   ],
   "source": [
    "'''\n",
    "dict = {}\n",
    "\n",
    "x = input()\n",
    "for i in x.split(\" \"):\n",
    "    dict[i.split(\":\")[0]] = i.split(\":\")[1]\n",
    "'''\n",
    "dict = {0:0.1, 0.1:0.1, 0.2:0.1, 0.3:0.2, 0.4:0.2, 0.5:0.2, 0.6:0.2, 0.7:0.5, 0.8:0.5, 0.9:0.5, 1.0:0.5}\n",
    "cent = 0\n",
    "\n",
    "sum_xi_wi = 0\n",
    "sum_wi = 0\n",
    "\n",
    "for i in dict:\n",
    "    sum_wi += dict[i]\n",
    "    sum_xi_wi += i*dict[i]\n",
    "\n",
    "cent = sum_xi_wi/sum_wi\n",
    "\n",
    "print(\"Centroid is:\",cent)\n",
    "\n",
    "dict = {0:0.1, 0.1:0.1, 0.2:1, 0.3:0.2, 0.4:0.8, 0.5:0.2, 0.6:1, 0.7:0.5, 0.8:1, 0.9:0.5, 1.0:0.1}\n",
    "sum_of_max = 0\n",
    "list_of_max = []\n",
    "count = 0\n",
    "\n",
    "for i in dict:\n",
    "    if(dict[i]==1 or dict[i]==1.0):\n",
    "        list_of_max.append(i)\n",
    "        sum_of_max += dict[i]\n",
    "        count += 1\n",
    "\n",
    "mean_of_max = sum_of_max/count    \n",
    "print(\"Mean of Maximum : \",mean_of_max)\n",
    "\n",
    "small_of_max = min(list_of_max)\n",
    "larg_of_max = max(list_of_max)\n",
    "\n",
    "print(\"Smallest of Maximum :\", small_of_max)\n",
    "print(\"Largest of Maximum: \",larg_of_max)\n",
    "\n",
    "list_of_mem = []\n",
    "\n",
    "for i in dict:\n",
    "    list_of_mem.append(dict[i])\n",
    "\n",
    "print(\"Bisector of Area: \", sum(list_of_mem)/len(list_of_mem))"
   ]
  },
  {
   "cell_type": "markdown",
   "metadata": {},
   "source": [
    "# Assignment 10"
   ]
  },
  {
   "cell_type": "markdown",
   "metadata": {},
   "source": [
    "Rule 1 --> If BP is high and temperature is high then health is poor.\n",
    "\n",
    "Rule 2 --> If BP is normal and temperature is normal then health is good.\n",
    "\n",
    "Rule 3 --> If BP is low and temperature is normal then health is normal"
   ]
  },
  {
   "cell_type": "code",
   "execution_count": 2,
   "metadata": {},
   "outputs": [
    {
     "data": {
      "image/png": "[encoded data removed]",
      "text/plain": [
       "<Figure size 432x288 with 1 Axes>"
      ]
     },
     "metadata": {},
     "output_type": "display_data"
    }
   ],
   "source": [
    "# Blood-pressure\n",
    "\n",
    "bp = np.arange(60,140)\n",
    "bp_low = skfuzzy.sigmf(bp, 100, -0.2)\n",
    "bp_normal = skfuzzy.gaussmf(bp, 100, 20)\n",
    "bp_high = skfuzzy.sigmf(bp, 100, 0.2)\n",
    "\n",
    "a = plt.plot(bp, bp_low, label='low')\n",
    "b = plt.plot(bp, bp_normal, label='normal')\n",
    "c = plt.plot(bp, bp_high, label='high')\n",
    "plt.title('BP comparisons')\n",
    "plt.legend()\n",
    "plt.xlabel('BP')\n",
    "plt.ylabel('Membership')\n",
    "plt.show()\n",
    "\n",
    "#BP_low = {60:0.9, 70:0.8, 80:0.6, 90:0.5, 100:0.4, 110:0.3, 120:0.2, 130:0.1, 140:0}\n",
    "#BP_normal = {60:0.2, 70:0.4, 80:0.7, 90:0.9, 100:0.9, 110:0.7, 120:0.7, 130:0.4, 140:0}\n",
    "#BP_high = {60:0, 70:0.1, 80:0.2, 90:0.3, 100:0.4, 110:0.5, 120:0.6, 130:0.8, 140:0.9}"
   ]
  },
  {
   "cell_type": "code",
   "execution_count": 19,
   "metadata": {},
   "outputs": [
    {
     "data": {
      "image/png": "[encoded data removed]",
      "text/plain": [
       "<Figure size 432x288 with 1 Axes>"
      ]
     },
     "metadata": {},
     "output_type": "display_data"
    }
   ],
   "source": [
    "# Temperature(F)\n",
    "temp = np.arange(90,104)\n",
    "temp_low = skfuzzy.sigmf(temp, 97, -1.1)\n",
    "temp_normal = skfuzzy.gaussmf(temp, 97, 2.5)\n",
    "temp_high = skfuzzy.sigmf(temp, 97, 1.1)\n",
    "\n",
    "plt.plot(temp, temp_low, label = 'low')\n",
    "plt.plot(temp, temp_normal, label = 'normal')\n",
    "plt.plot(temp, temp_high, label = 'high')\n",
    "plt.title('Temperature comparisons')\n",
    "plt.legend()\n",
    "plt.xlabel('Temperature')\n",
    "plt.ylabel('Membership')\n",
    "plt.show()\n",
    "plt.show()\n",
    "\n",
    "\n",
    "#temp_low = {94:0.9, 95:0.8, 96:0.7, 97:0.6, 98:0.5, 99:0.4, 100:0.3, 101:0.2, 102:0.1}\n",
    "#temp_normal = {94:0.2, 95:0.4, 96:0.6, 97:0.8, 98:0.9, 99:0.8, 100:0.5, 101:0.3, 102:0.1}\n",
    "#temp_high = {94:0.1, 95:0.2, 96:0.3, 97:0.4, 98:0.5, 99:0.6, 100:0.7, 101:0.8, 102:0.9}"
   ]
  },
  {
   "cell_type": "code",
   "execution_count": 6,
   "metadata": {},
   "outputs": [],
   "source": [
    "def health(temperature, blood_pressure):\n",
    "    \n",
    "    temp_low = skfuzzy.sigmf(temperature, 97, -1.1)\n",
    "    temp_normal = skfuzzy.gaussmf(temperature, 97, 2.5)\n",
    "    temp_high = skfuzzy.sigmf(temperature, 97, 1.1)\n",
    "    \n",
    "    temp_cond = ''\n",
    "    \n",
    "    if temp_low > temp_normal and temp_low > temp_high:\n",
    "        temp_cond = 'low'\n",
    "    elif temp_normal > temp_low and temp_normal > temp_high:\n",
    "        temp_cond = 'normal'\n",
    "    elif temp_high > temp_low and temp_high > temp_normal:\n",
    "        temp_cond = 'high'\n",
    "    \n",
    "    bp_low = skfuzzy.sigmf(blood_pressure, 100, -0.2)\n",
    "    bp_normal = skfuzzy.gaussmf(blood_pressure, 100, 20)\n",
    "    bp_high = skfuzzy.sigmf(blood_pressure, 100, 0.2)\n",
    "    \n",
    "    bp_cond = ''\n",
    "    \n",
    "    if bp_low > bp_normal and bp_low > bp_high:\n",
    "        bp_cond = 'low'\n",
    "    elif bp_normal > bp_low and bp_normal > bp_high:\n",
    "        bp_cond = 'normal'\n",
    "    elif bp_high > bp_low and bp_high > bp_normal:\n",
    "        bp_cond = 'high'\n",
    "        \n",
    "    health_cond = ''\n",
    "    \n",
    "    if temp_cond == 'high'and bp_cond == 'high':\n",
    "        health_cond = 'Poor'\n",
    "        \n",
    "    if temp_cond == 'normal'and bp_cond == 'normal':\n",
    "        health_cond = 'Good'\n",
    "        \n",
    "    if temp_cond == 'normal'and bp_cond == 'low':\n",
    "        health_cond = 'Normal'  \n",
    "        \n",
    "    return health_cond    "
   ]
  },
  {
   "cell_type": "code",
   "execution_count": 10,
   "metadata": {},
   "outputs": [
    {
     "name": "stdout",
     "output_type": "stream",
     "text": [
      "Enter the temperature: 104\n",
      "Enter the blood pressure: 120\n",
      "The health is : Poor\n"
     ]
    }
   ],
   "source": [
    "temp = float(input(\"Enter the temperature: \"))\n",
    "bp = float(input(\"Enter the blood pressure: \"))\n",
    "\n",
    "print('The health is :', health(temp, bp))"
   ]
  },
  {
   "cell_type": "markdown",
   "metadata": {},
   "source": [
    "# Assignment 11"
   ]
  },
  {
   "cell_type": "code",
   "execution_count": null,
   "metadata": {},
   "outputs": [],
   "source": []
  },
  {
   "cell_type": "markdown",
   "metadata": {},
   "source": [
    "# Assignment 12"
   ]
  },
  {
   "cell_type": "code",
   "execution_count": 78,
   "metadata": {},
   "outputs": [
    {
     "name": "stdout",
     "output_type": "stream",
     "text": [
      "Enter amount of water in liters:7\n",
      "Enter dirt(low/normal/high) :high\n",
      "Enter amount of washing powder in grams:20\n",
      "The time remaining is  approximately 10 minutes\n"
     ]
    }
   ],
   "source": [
    "amount_of_water = float(input(\"Enter amount of water in liters:\"))\n",
    "amount_of_dirt = input(\"Enter dirt(low/normal/high) :\")\n",
    "amount_of_washing_powder = float(input(\"Enter amount of washing powder in grams:\"))\n",
    "\n",
    "a1 = 7 \n",
    "c1 = 0.5\n",
    "x1 = np.arange(0,15)\n",
    "water = skfuzzy.sigmf(x1,a1,c1)\n",
    "\n",
    "a2 = 25 \n",
    "c2 = 0.2\n",
    "\n",
    "x2 = np.arange(0,50)\n",
    "powder = skfuzzy.sigmf(x2,a2,c2)\n",
    "\n",
    "#plt.plot(x1, water)\n",
    "#plt.plot(x2, powder)\n",
    "#plt.show()\n",
    "\n",
    "if amount_of_dirt == 'high':\n",
    "    if skfuzzy.sigmf(amount_of_water, a1, c1) >= 0.5:\n",
    "        if skfuzzy.sigmf(amount_of_washing_powder, a2, c2) >= 0.5:\n",
    "            TIME = '5-7 minutes'\n",
    "        else:\n",
    "            TIME = 'approximately 10 minutes'\n",
    "    else:\n",
    "        TIME = 'less than 15 minutes'\n",
    "    \n",
    "elif amount_of_dirt == 'low':\n",
    "    if skfuzzy.sigmf(amount_of_water, a1, c1) >= 0.5:\n",
    "        if skfuzzy.sigmf(amount_of_washing_powder, a2, c2) >= 0.5:\n",
    "            TIME = '2 minutes'\n",
    "        else:\n",
    "            TIME = '4-5 minutes'\n",
    "    else:\n",
    "        TIME = '7-10 minutes'\n",
    "        \n",
    "else:\n",
    "    if skfuzzy.sigmf(amount_of_water, a1, c1) >= 0.5:\n",
    "        if skfuzzy.sigmf(amount_of_washing_powder, a2, c2) >= 0.5:\n",
    "            TIME = '3 minutes'\n",
    "        else:\n",
    "            TIME = '5-6 minutes'\n",
    "    else:\n",
    "        TIME = '10-12 minutes'\n",
    "        \n",
    "print('The time remaining is ',TIME)        "
   ]
  },
  {
   "cell_type": "markdown",
   "metadata": {},
   "source": [
    "# Assignment 13"
   ]
  },
  {
   "cell_type": "markdown",
   "metadata": {},
   "source": [
    "# Travelling Salesman problem"
   ]
  },
  {
   "cell_type": "markdown",
   "metadata": {},
   "source": [
    "**Order Encoding**"
   ]
  },
  {
   "cell_type": "code",
   "execution_count": 101,
   "metadata": {},
   "outputs": [],
   "source": [
    "def tsp(n):\n",
    "    \n",
    "    p = random.sample(range(n),n)\n",
    "\n",
    "    random.shuffle(p)\n",
    "    \n",
    "    return p"
   ]
  },
  {
   "cell_type": "code",
   "execution_count": 103,
   "metadata": {},
   "outputs": [
    {
     "name": "stdout",
     "output_type": "stream",
     "text": [
      "No. of cities 10\n",
      "Parent 1:  [6, 4, 5, 3, 7, 8, 2, 0, 9, 1]\n",
      "Parent 2:  [1, 5, 8, 0, 7, 3, 4, 9, 2, 6]\n"
     ]
    }
   ],
   "source": [
    "n_cities = int(input('No. of cities '))\n",
    "\n",
    "p1 = tsp(n_cities)\n",
    "print(\"Parent 1: \",p1)\n",
    "p2 = tsp(n_cities)\n",
    "print(\"Parent 2: \",p2)"
   ]
  },
  {
   "cell_type": "markdown",
   "metadata": {},
   "source": [
    "# Assignment 14"
   ]
  },
  {
   "cell_type": "markdown",
   "metadata": {},
   "source": [
    "# Knapsack problem\n",
    "\n",
    "**Problem**: There are things with given value and size. The knapsack has given capacity. Select things to maximize the value of things in knapsack, but do not extend knapsack capacity. <br>\n",
    "**Encoding**: Each bit says, whether the corresponding thing is in knapsack."
   ]
  },
  {
   "cell_type": "code",
   "execution_count": 104,
   "metadata": {},
   "outputs": [],
   "source": [
    "W = 5\n",
    "weight = [3, 2, 4, 1]\n",
    "value = [100, 20, 60, 40]\n",
    "\n",
    "item = []\n",
    "\n",
    "for i in range(len(weight)):\n",
    "    for j in range(len(value)):\n",
    "        if i == j:\n",
    "            item.append((weight[i], value[j]))\n",
    "\n",
    "def parent():\n",
    "    possible_vals = 0,1\n",
    "    p = []\n",
    "    for i in range(4):\n",
    "        a = random.randint(0,1)\n",
    "        p.append(a)\n",
    "    return p    "
   ]
  },
  {
   "cell_type": "code",
   "execution_count": 105,
   "metadata": {},
   "outputs": [
    {
     "name": "stdout",
     "output_type": "stream",
     "text": [
      "Parent 1:  [0, 1, 1, 0]\n",
      "Parent 2:  [0, 1, 1, 1]\n"
     ]
    }
   ],
   "source": [
    "p1 = parent()\n",
    "print('Parent 1: ', p1)\n",
    "\n",
    "p2 = parent()\n",
    "print('Parent 2: ', p2)"
   ]
  },
  {
   "cell_type": "markdown",
   "metadata": {},
   "source": [
    "# Assignment 15"
   ]
  },
  {
   "cell_type": "markdown",
   "metadata": {},
   "source": [
    "**8-queen problem**"
   ]
  },
  {
   "cell_type": "code",
   "execution_count": 118,
   "metadata": {},
   "outputs": [],
   "source": [
    "def queens(n = 8):\n",
    "    q = random.sample(range(n),n)\n",
    "    random.shuffle(q)\n",
    "    \n",
    "    return q"
   ]
  },
  {
   "cell_type": "code",
   "execution_count": 119,
   "metadata": {},
   "outputs": [
    {
     "name": "stdout",
     "output_type": "stream",
     "text": [
      "Parent 1:  [2, 3, 1, 6, 0, 7, 5, 4]\n",
      "Parent 2:  [7, 5, 2, 4, 1, 3, 0, 6]\n"
     ]
    }
   ],
   "source": [
    "p1 = queens()\n",
    "print(\"Parent 1: \", p1)\n",
    "p2 = queens()\n",
    "print(\"Parent 2: \", p2)"
   ]
  },
  {
   "cell_type": "markdown",
   "metadata": {},
   "source": [
    "# Assignment 16"
   ]
  },
  {
   "cell_type": "code",
   "execution_count": null,
   "metadata": {},
   "outputs": [],
   "source": [
    "N = 100\n",
    "N_p = int(input(\"Enter N_p: \"))\n",
    "\n"
   ]
  }
 ],
 "metadata": {
  "kernelspec": {
   "display_name": "Python 3",
   "language": "python",
   "name": "python3"
  },
  "language_info": {
   "codemirror_mode": {
    "name": "ipython",
    "version": 3
   },
   "file_extension": ".py",
   "mimetype": "text/x-python",
   "name": "python",
   "nbconvert_exporter": "python",
   "pygments_lexer": "ipython3",
   "version": "3.6.5"
  }
 },
 "nbformat": 4,
 "nbformat_minor": 2
}
